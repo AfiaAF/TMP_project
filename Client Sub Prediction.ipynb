{
 "cells": [
  {
   "cell_type": "markdown",
   "id": "61950280-7024-40d0-aa62-cad0301f322b",
   "metadata": {},
   "source": [
    "# Client Subscription Prediction Model Project"
   ]
  },
  {
   "cell_type": "markdown",
   "id": "8d435070-1175-440f-a768-24c95a8d4d37",
   "metadata": {},
   "source": [
    "### Data Loading, Preprocessing and Analysis"
   ]
  },
  {
   "cell_type": "code",
   "execution_count": 189,
   "id": "4cf920fd-7169-4d40-9f74-3add5af8c164",
   "metadata": {},
   "outputs": [],
   "source": [
    "#Importing Libraries for various stages of Analyses\n",
    "##EDA\n",
    "import pandas as pd\n",
    "import numpy as np\n",
    "import matplotlib.pyplot as plt\n",
    "import seaborn as sns\n",
    "##Feature preprocessing\n",
    "import sklearn\n",
    "from sklearn.base import BaseEstimator, TransformerMixin\n",
    "from sklearn.pipeline import Pipeline\n",
    "from sklearn.compose import ColumnTransformer\n",
    "from sklearn.impute import SimpleImputer\n",
    "from sklearn.preprocessing import OneHotEncoder, StandardScaler\n",
    "##Model training and testing\n",
    "from sklearn.model_selection import train_test_split\n",
    "from sklearn.metrics import accuracy_score, precision_score, recall_score, f1_score\n",
    "from sklearn.metrics import classification_report\n",
    "from sklearn.ensemble import RandomForestClassifier\n",
    "\n",
    "\n",
    "## Loading dataset\n",
    "bankdata = pd.read_csv('bank-full.csv', sep=';')"
   ]
  },
  {
   "cell_type": "markdown",
   "id": "7924f115-0c00-4ea4-9274-6c2befe871fe",
   "metadata": {},
   "source": [
    "### Exploratory Data Analysis"
   ]
  },
  {
   "cell_type": "code",
   "execution_count": 191,
   "id": "e0cdd4a4-6e5e-472c-86c3-f776e9351bbd",
   "metadata": {},
   "outputs": [
    {
     "data": {
      "text/html": [
       "<div>\n",
       "<style scoped>\n",
       "    .dataframe tbody tr th:only-of-type {\n",
       "        vertical-align: middle;\n",
       "    }\n",
       "\n",
       "    .dataframe tbody tr th {\n",
       "        vertical-align: top;\n",
       "    }\n",
       "\n",
       "    .dataframe thead th {\n",
       "        text-align: right;\n",
       "    }\n",
       "</style>\n",
       "<table border=\"1\" class=\"dataframe\">\n",
       "  <thead>\n",
       "    <tr style=\"text-align: right;\">\n",
       "      <th></th>\n",
       "      <th>age</th>\n",
       "      <th>job</th>\n",
       "      <th>marital</th>\n",
       "      <th>education</th>\n",
       "      <th>default</th>\n",
       "      <th>balance</th>\n",
       "      <th>housing</th>\n",
       "      <th>loan</th>\n",
       "      <th>contact</th>\n",
       "      <th>day</th>\n",
       "      <th>month</th>\n",
       "      <th>duration</th>\n",
       "      <th>campaign</th>\n",
       "      <th>pdays</th>\n",
       "      <th>previous</th>\n",
       "      <th>poutcome</th>\n",
       "      <th>y</th>\n",
       "    </tr>\n",
       "  </thead>\n",
       "  <tbody>\n",
       "    <tr>\n",
       "      <th>0</th>\n",
       "      <td>58</td>\n",
       "      <td>management</td>\n",
       "      <td>married</td>\n",
       "      <td>tertiary</td>\n",
       "      <td>no</td>\n",
       "      <td>2143</td>\n",
       "      <td>yes</td>\n",
       "      <td>no</td>\n",
       "      <td>unknown</td>\n",
       "      <td>5</td>\n",
       "      <td>may</td>\n",
       "      <td>261</td>\n",
       "      <td>1</td>\n",
       "      <td>-1</td>\n",
       "      <td>0</td>\n",
       "      <td>unknown</td>\n",
       "      <td>no</td>\n",
       "    </tr>\n",
       "    <tr>\n",
       "      <th>1</th>\n",
       "      <td>44</td>\n",
       "      <td>technician</td>\n",
       "      <td>single</td>\n",
       "      <td>secondary</td>\n",
       "      <td>no</td>\n",
       "      <td>29</td>\n",
       "      <td>yes</td>\n",
       "      <td>no</td>\n",
       "      <td>unknown</td>\n",
       "      <td>5</td>\n",
       "      <td>may</td>\n",
       "      <td>151</td>\n",
       "      <td>1</td>\n",
       "      <td>-1</td>\n",
       "      <td>0</td>\n",
       "      <td>unknown</td>\n",
       "      <td>no</td>\n",
       "    </tr>\n",
       "    <tr>\n",
       "      <th>2</th>\n",
       "      <td>33</td>\n",
       "      <td>entrepreneur</td>\n",
       "      <td>married</td>\n",
       "      <td>secondary</td>\n",
       "      <td>no</td>\n",
       "      <td>2</td>\n",
       "      <td>yes</td>\n",
       "      <td>yes</td>\n",
       "      <td>unknown</td>\n",
       "      <td>5</td>\n",
       "      <td>may</td>\n",
       "      <td>76</td>\n",
       "      <td>1</td>\n",
       "      <td>-1</td>\n",
       "      <td>0</td>\n",
       "      <td>unknown</td>\n",
       "      <td>no</td>\n",
       "    </tr>\n",
       "    <tr>\n",
       "      <th>3</th>\n",
       "      <td>47</td>\n",
       "      <td>blue-collar</td>\n",
       "      <td>married</td>\n",
       "      <td>unknown</td>\n",
       "      <td>no</td>\n",
       "      <td>1506</td>\n",
       "      <td>yes</td>\n",
       "      <td>no</td>\n",
       "      <td>unknown</td>\n",
       "      <td>5</td>\n",
       "      <td>may</td>\n",
       "      <td>92</td>\n",
       "      <td>1</td>\n",
       "      <td>-1</td>\n",
       "      <td>0</td>\n",
       "      <td>unknown</td>\n",
       "      <td>no</td>\n",
       "    </tr>\n",
       "    <tr>\n",
       "      <th>4</th>\n",
       "      <td>33</td>\n",
       "      <td>unknown</td>\n",
       "      <td>single</td>\n",
       "      <td>unknown</td>\n",
       "      <td>no</td>\n",
       "      <td>1</td>\n",
       "      <td>no</td>\n",
       "      <td>no</td>\n",
       "      <td>unknown</td>\n",
       "      <td>5</td>\n",
       "      <td>may</td>\n",
       "      <td>198</td>\n",
       "      <td>1</td>\n",
       "      <td>-1</td>\n",
       "      <td>0</td>\n",
       "      <td>unknown</td>\n",
       "      <td>no</td>\n",
       "    </tr>\n",
       "    <tr>\n",
       "      <th>5</th>\n",
       "      <td>35</td>\n",
       "      <td>management</td>\n",
       "      <td>married</td>\n",
       "      <td>tertiary</td>\n",
       "      <td>no</td>\n",
       "      <td>231</td>\n",
       "      <td>yes</td>\n",
       "      <td>no</td>\n",
       "      <td>unknown</td>\n",
       "      <td>5</td>\n",
       "      <td>may</td>\n",
       "      <td>139</td>\n",
       "      <td>1</td>\n",
       "      <td>-1</td>\n",
       "      <td>0</td>\n",
       "      <td>unknown</td>\n",
       "      <td>no</td>\n",
       "    </tr>\n",
       "    <tr>\n",
       "      <th>6</th>\n",
       "      <td>28</td>\n",
       "      <td>management</td>\n",
       "      <td>single</td>\n",
       "      <td>tertiary</td>\n",
       "      <td>no</td>\n",
       "      <td>447</td>\n",
       "      <td>yes</td>\n",
       "      <td>yes</td>\n",
       "      <td>unknown</td>\n",
       "      <td>5</td>\n",
       "      <td>may</td>\n",
       "      <td>217</td>\n",
       "      <td>1</td>\n",
       "      <td>-1</td>\n",
       "      <td>0</td>\n",
       "      <td>unknown</td>\n",
       "      <td>no</td>\n",
       "    </tr>\n",
       "    <tr>\n",
       "      <th>7</th>\n",
       "      <td>42</td>\n",
       "      <td>entrepreneur</td>\n",
       "      <td>divorced</td>\n",
       "      <td>tertiary</td>\n",
       "      <td>yes</td>\n",
       "      <td>2</td>\n",
       "      <td>yes</td>\n",
       "      <td>no</td>\n",
       "      <td>unknown</td>\n",
       "      <td>5</td>\n",
       "      <td>may</td>\n",
       "      <td>380</td>\n",
       "      <td>1</td>\n",
       "      <td>-1</td>\n",
       "      <td>0</td>\n",
       "      <td>unknown</td>\n",
       "      <td>no</td>\n",
       "    </tr>\n",
       "    <tr>\n",
       "      <th>8</th>\n",
       "      <td>58</td>\n",
       "      <td>retired</td>\n",
       "      <td>married</td>\n",
       "      <td>primary</td>\n",
       "      <td>no</td>\n",
       "      <td>121</td>\n",
       "      <td>yes</td>\n",
       "      <td>no</td>\n",
       "      <td>unknown</td>\n",
       "      <td>5</td>\n",
       "      <td>may</td>\n",
       "      <td>50</td>\n",
       "      <td>1</td>\n",
       "      <td>-1</td>\n",
       "      <td>0</td>\n",
       "      <td>unknown</td>\n",
       "      <td>no</td>\n",
       "    </tr>\n",
       "    <tr>\n",
       "      <th>9</th>\n",
       "      <td>43</td>\n",
       "      <td>technician</td>\n",
       "      <td>single</td>\n",
       "      <td>secondary</td>\n",
       "      <td>no</td>\n",
       "      <td>593</td>\n",
       "      <td>yes</td>\n",
       "      <td>no</td>\n",
       "      <td>unknown</td>\n",
       "      <td>5</td>\n",
       "      <td>may</td>\n",
       "      <td>55</td>\n",
       "      <td>1</td>\n",
       "      <td>-1</td>\n",
       "      <td>0</td>\n",
       "      <td>unknown</td>\n",
       "      <td>no</td>\n",
       "    </tr>\n",
       "  </tbody>\n",
       "</table>\n",
       "</div>"
      ],
      "text/plain": [
       "   age           job   marital  education default  balance housing loan  \\\n",
       "0   58    management   married   tertiary      no     2143     yes   no   \n",
       "1   44    technician    single  secondary      no       29     yes   no   \n",
       "2   33  entrepreneur   married  secondary      no        2     yes  yes   \n",
       "3   47   blue-collar   married    unknown      no     1506     yes   no   \n",
       "4   33       unknown    single    unknown      no        1      no   no   \n",
       "5   35    management   married   tertiary      no      231     yes   no   \n",
       "6   28    management    single   tertiary      no      447     yes  yes   \n",
       "7   42  entrepreneur  divorced   tertiary     yes        2     yes   no   \n",
       "8   58       retired   married    primary      no      121     yes   no   \n",
       "9   43    technician    single  secondary      no      593     yes   no   \n",
       "\n",
       "   contact  day month  duration  campaign  pdays  previous poutcome   y  \n",
       "0  unknown    5   may       261         1     -1         0  unknown  no  \n",
       "1  unknown    5   may       151         1     -1         0  unknown  no  \n",
       "2  unknown    5   may        76         1     -1         0  unknown  no  \n",
       "3  unknown    5   may        92         1     -1         0  unknown  no  \n",
       "4  unknown    5   may       198         1     -1         0  unknown  no  \n",
       "5  unknown    5   may       139         1     -1         0  unknown  no  \n",
       "6  unknown    5   may       217         1     -1         0  unknown  no  \n",
       "7  unknown    5   may       380         1     -1         0  unknown  no  \n",
       "8  unknown    5   may        50         1     -1         0  unknown  no  \n",
       "9  unknown    5   may        55         1     -1         0  unknown  no  "
      ]
     },
     "execution_count": 191,
     "metadata": {},
     "output_type": "execute_result"
    }
   ],
   "source": [
    "bankdata.head(10)"
   ]
  },
  {
   "cell_type": "code",
   "execution_count": 192,
   "id": "1f2b9229-1ec1-4786-bda9-92dc976fc503",
   "metadata": {},
   "outputs": [
    {
     "name": "stdout",
     "output_type": "stream",
     "text": [
      "<class 'pandas.core.frame.DataFrame'>\n",
      "RangeIndex: 45211 entries, 0 to 45210\n",
      "Data columns (total 17 columns):\n",
      " #   Column     Non-Null Count  Dtype \n",
      "---  ------     --------------  ----- \n",
      " 0   age        45211 non-null  int64 \n",
      " 1   job        45211 non-null  object\n",
      " 2   marital    45211 non-null  object\n",
      " 3   education  45211 non-null  object\n",
      " 4   default    45211 non-null  object\n",
      " 5   balance    45211 non-null  int64 \n",
      " 6   housing    45211 non-null  object\n",
      " 7   loan       45211 non-null  object\n",
      " 8   contact    45211 non-null  object\n",
      " 9   day        45211 non-null  int64 \n",
      " 10  month      45211 non-null  object\n",
      " 11  duration   45211 non-null  int64 \n",
      " 12  campaign   45211 non-null  int64 \n",
      " 13  pdays      45211 non-null  int64 \n",
      " 14  previous   45211 non-null  int64 \n",
      " 15  poutcome   45211 non-null  object\n",
      " 16  y          45211 non-null  object\n",
      "dtypes: int64(7), object(10)\n",
      "memory usage: 5.9+ MB\n"
     ]
    }
   ],
   "source": [
    "bankdata.info()"
   ]
  },
  {
   "cell_type": "code",
   "execution_count": 193,
   "id": "6a11a029-3e5b-4acc-9476-758128796f1c",
   "metadata": {},
   "outputs": [
    {
     "data": {
      "text/plain": [
       "age          0\n",
       "job          0\n",
       "marital      0\n",
       "education    0\n",
       "default      0\n",
       "balance      0\n",
       "housing      0\n",
       "loan         0\n",
       "contact      0\n",
       "day          0\n",
       "month        0\n",
       "duration     0\n",
       "campaign     0\n",
       "pdays        0\n",
       "previous     0\n",
       "poutcome     0\n",
       "y            0\n",
       "dtype: int64"
      ]
     },
     "execution_count": 193,
     "metadata": {},
     "output_type": "execute_result"
    }
   ],
   "source": [
    "bankdata.isnull().sum()"
   ]
  },
  {
   "cell_type": "code",
   "execution_count": 194,
   "id": "18e2bdb8-e37d-4c3e-9641-b609bd21d56b",
   "metadata": {},
   "outputs": [
    {
     "data": {
      "text/plain": [
       "0        False\n",
       "1        False\n",
       "2        False\n",
       "3        False\n",
       "4        False\n",
       "         ...  \n",
       "45206    False\n",
       "45207    False\n",
       "45208    False\n",
       "45209    False\n",
       "45210    False\n",
       "Length: 45211, dtype: bool"
      ]
     },
     "execution_count": 194,
     "metadata": {},
     "output_type": "execute_result"
    }
   ],
   "source": [
    "bankdata.duplicated()"
   ]
  },
  {
   "cell_type": "code",
   "execution_count": 195,
   "id": "41bc5ca2-62a9-4f4f-a594-0a3d53592309",
   "metadata": {},
   "outputs": [
    {
     "name": "stdout",
     "output_type": "stream",
     "text": [
      "Index(['age', 'job', 'marital', 'education', 'default', 'balance', 'housing',\n",
      "       'loan', 'contact', 'day', 'month', 'duration', 'campaign', 'pdays',\n",
      "       'previous', 'poutcome', 'y'],\n",
      "      dtype='object')\n"
     ]
    }
   ],
   "source": [
    "print(bankdata.columns)"
   ]
  },
  {
   "cell_type": "code",
   "execution_count": 196,
   "id": "e4ce6f38-5c38-4e82-95b2-0a31e7d610a0",
   "metadata": {},
   "outputs": [
    {
     "data": {
      "text/plain": [
       "job\n",
       "blue-collar      9732\n",
       "management       9458\n",
       "technician       7597\n",
       "admin.           5171\n",
       "services         4154\n",
       "retired          2264\n",
       "self-employed    1579\n",
       "entrepreneur     1487\n",
       "unemployed       1303\n",
       "housemaid        1240\n",
       "student           938\n",
       "unknown           288\n",
       "Name: count, dtype: int64"
      ]
     },
     "execution_count": 196,
     "metadata": {},
     "output_type": "execute_result"
    }
   ],
   "source": [
    "bankdata['job'].value_counts()"
   ]
  },
  {
   "cell_type": "code",
   "execution_count": 197,
   "id": "62d58fc7-e6f4-4937-8552-97f7845512f5",
   "metadata": {},
   "outputs": [
    {
     "data": {
      "text/plain": [
       "age\n",
       "32    2085\n",
       "31    1996\n",
       "33    1972\n",
       "34    1930\n",
       "35    1894\n",
       "      ... \n",
       "93       2\n",
       "90       2\n",
       "95       2\n",
       "88       2\n",
       "94       1\n",
       "Name: count, Length: 77, dtype: int64"
      ]
     },
     "execution_count": 197,
     "metadata": {},
     "output_type": "execute_result"
    }
   ],
   "source": [
    "bankdata['age'].value_counts()"
   ]
  },
  {
   "cell_type": "code",
   "execution_count": 198,
   "id": "f8ef58d1-feb5-45ae-b79f-d4874e2d0364",
   "metadata": {},
   "outputs": [
    {
     "data": {
      "text/plain": [
       "marital\n",
       "married     27214\n",
       "single      12790\n",
       "divorced     5207\n",
       "Name: count, dtype: int64"
      ]
     },
     "execution_count": 198,
     "metadata": {},
     "output_type": "execute_result"
    }
   ],
   "source": [
    "bankdata['marital'].value_counts()"
   ]
  },
  {
   "cell_type": "code",
   "execution_count": 199,
   "id": "e88ff542-c5d5-4a14-919c-19ba4f2a1ad6",
   "metadata": {},
   "outputs": [
    {
     "data": {
      "text/plain": [
       "housing\n",
       "yes    25130\n",
       "no     20081\n",
       "Name: count, dtype: int64"
      ]
     },
     "execution_count": 199,
     "metadata": {},
     "output_type": "execute_result"
    }
   ],
   "source": [
    "bankdata['housing'].value_counts()"
   ]
  },
  {
   "cell_type": "code",
   "execution_count": 200,
   "id": "19caadd5-d7c8-46b8-9aac-61a6c460c999",
   "metadata": {},
   "outputs": [
    {
     "data": {
      "text/plain": [
       "loan\n",
       "no     37967\n",
       "yes     7244\n",
       "Name: count, dtype: int64"
      ]
     },
     "execution_count": 200,
     "metadata": {},
     "output_type": "execute_result"
    }
   ],
   "source": [
    "bankdata['loan'].value_counts()"
   ]
  },
  {
   "cell_type": "code",
   "execution_count": 201,
   "id": "6d615306-9853-4718-86e1-e90c7569ddc6",
   "metadata": {},
   "outputs": [
    {
     "data": {
      "text/plain": [
       "y\n",
       "no     39922\n",
       "yes     5289\n",
       "Name: count, dtype: int64"
      ]
     },
     "execution_count": 201,
     "metadata": {},
     "output_type": "execute_result"
    }
   ],
   "source": [
    "bankdata['y'].value_counts()"
   ]
  },
  {
   "cell_type": "markdown",
   "id": "57ae3c34-ac57-49db-80f4-08c86fbd1c65",
   "metadata": {},
   "source": [
    "### Visualizations"
   ]
  },
  {
   "cell_type": "code",
   "execution_count": 203,
   "id": "f2b940d7-35cd-4601-a44a-60f1bb216ee6",
   "metadata": {},
   "outputs": [
    {
     "data": {
      "image/png": "[encoded data removed]",
      "text/plain": [
       "<Figure size 500x400 with 1 Axes>"
      ]
     },
     "metadata": {},
     "output_type": "display_data"
    }
   ],
   "source": [
    "## Class distribution (target variable)\n",
    "plt.figure(figsize=(5, 4))\n",
    "bankdata['y'].value_counts().plot(kind='bar')\n",
    "plt.title('Deposit Subscription Distribution')\n",
    "plt.xticks([0, 1], ['No', 'Yes'], rotation=0)\n",
    "plt.ylabel('Number of Clients') \n",
    "plt.savefig('sub_distribution.png') ## Saving image\n",
    "plt.show()"
   ]
  },
  {
   "cell_type": "code",
   "execution_count": 204,
   "id": "745aa426-c95b-4da0-b0d9-0ec330b5934c",
   "metadata": {},
   "outputs": [
    {
     "data": {
      "image/png": "[encoded data removed]",
      "text/plain": [
       "<Figure size 600x400 with 1 Axes>"
      ]
     },
     "metadata": {},
     "output_type": "display_data"
    }
   ],
   "source": [
    "## Age distribution\n",
    "plt.figure(figsize=(6, 4))\n",
    "bankdata['age'].plot(kind='hist', bins=20, edgecolor='black')\n",
    "plt.title('Age Distribution')\n",
    "plt.xlabel('Age')\n",
    "plt.ylabel('Number of Clients')\n",
    "plt.savefig('age_distribution.png') # Saving image\n",
    "plt.show()"
   ]
  },
  {
   "cell_type": "code",
   "execution_count": 205,
   "id": "16cf827a-7fda-4613-8ca7-f5dc762e7195",
   "metadata": {},
   "outputs": [
    {
     "data": {
      "image/png": "[encoded data removed]",
      "text/plain": [
       "<Figure size 1000x500 with 1 Axes>"
      ]
     },
     "metadata": {},
     "output_type": "display_data"
    }
   ],
   "source": [
    "## Job distribution\n",
    "plt.figure(figsize=(10, 5))\n",
    "bankdata['job'].value_counts().plot(kind='bar')\n",
    "plt.title('Client Job Distribution')\n",
    "plt.ylabel('Number of Clients')\n",
    "plt.xlabel('Job Role')\n",
    "plt.xticks(rotation=45)\n",
    "plt.savefig('job_distribution.png') # Saving image\n",
    "plt.show()"
   ]
  },
  {
   "cell_type": "code",
   "execution_count": 206,
   "id": "3dce53b0-c096-4ecc-ac44-9cc516710a87",
   "metadata": {},
   "outputs": [
    {
     "data": {
      "image/png": "[encoded data removed]",
      "text/plain": [
       "<Figure size 800x500 with 1 Axes>"
      ]
     },
     "metadata": {},
     "output_type": "display_data"
    }
   ],
   "source": [
    "## Education vs Subscription Rate\n",
    "plt.figure(figsize=(8, 5))\n",
    "sns.barplot(data=bankdata, x='education', y='y')\n",
    "plt.title('Subscription Rate by Education Level')\n",
    "plt.ylabel('Subscription Rate')\n",
    "plt.xlabel('Education Level')\n",
    "plt.xticks(rotation=30)\n",
    "plt.savefig('edu_distribution.png') # Saving image\n",
    "plt.show()"
   ]
  },
  {
   "cell_type": "markdown",
   "id": "c6df1566-4b2e-437e-8411-b282b8a63618",
   "metadata": {},
   "source": [
    "### Feature Preprocessing and Evaluation"
   ]
  },
  {
   "cell_type": "code",
   "execution_count": 208,
   "id": "29405e03-0410-41ed-9976-cffab15837fc",
   "metadata": {},
   "outputs": [],
   "source": [
    "## Dropping 'duration' column to avoid data leakage\n",
    "bankdata = bankdata.drop(columns=['duration'])\n",
    "\n",
    "## Mapping target variable 'y' to binary\n",
    "bankdata['y'] = bankdata['y'].map({'yes': 1, 'no': 0})\n",
    "\n",
    "## Creating new binary feature 'contacted_before' from 'pdays'\n",
    "bankdata['contacted_before'] = bankdata['pdays'].apply(lambda x: 0 if x == 999 else 1)\n",
    "bankdata = bankdata.drop(columns=['pdays'])"
   ]
  },
  {
   "cell_type": "code",
   "execution_count": 209,
   "id": "7d124bea-ad30-450f-84b8-b60e87f03e6f",
   "metadata": {},
   "outputs": [
    {
     "name": "stdout",
     "output_type": "stream",
     "text": [
      "<class 'pandas.core.frame.DataFrame'>\n",
      "RangeIndex: 45211 entries, 0 to 45210\n",
      "Data columns (total 16 columns):\n",
      " #   Column            Non-Null Count  Dtype \n",
      "---  ------            --------------  ----- \n",
      " 0   age               45211 non-null  int64 \n",
      " 1   job               45211 non-null  object\n",
      " 2   marital           45211 non-null  object\n",
      " 3   education         45211 non-null  object\n",
      " 4   default           45211 non-null  object\n",
      " 5   balance           45211 non-null  int64 \n",
      " 6   housing           45211 non-null  object\n",
      " 7   loan              45211 non-null  object\n",
      " 8   contact           45211 non-null  object\n",
      " 9   day               45211 non-null  int64 \n",
      " 10  month             45211 non-null  object\n",
      " 11  campaign          45211 non-null  int64 \n",
      " 12  previous          45211 non-null  int64 \n",
      " 13  poutcome          45211 non-null  object\n",
      " 14  y                 45211 non-null  int64 \n",
      " 15  contacted_before  45211 non-null  int64 \n",
      "dtypes: int64(7), object(9)\n",
      "memory usage: 5.5+ MB\n"
     ]
    }
   ],
   "source": [
    "bankdata.info()"
   ]
  },
  {
   "cell_type": "code",
   "execution_count": 210,
   "id": "3d221e53-4ab6-4483-b359-bcca2338039e",
   "metadata": {
    "scrolled": true
   },
   "outputs": [
    {
     "data": {
      "text/html": [
       "<div>\n",
       "<style scoped>\n",
       "    .dataframe tbody tr th:only-of-type {\n",
       "        vertical-align: middle;\n",
       "    }\n",
       "\n",
       "    .dataframe tbody tr th {\n",
       "        vertical-align: top;\n",
       "    }\n",
       "\n",
       "    .dataframe thead th {\n",
       "        text-align: right;\n",
       "    }\n",
       "</style>\n",
       "<table border=\"1\" class=\"dataframe\">\n",
       "  <thead>\n",
       "    <tr style=\"text-align: right;\">\n",
       "      <th></th>\n",
       "      <th>age</th>\n",
       "      <th>job</th>\n",
       "      <th>marital</th>\n",
       "      <th>education</th>\n",
       "      <th>default</th>\n",
       "      <th>balance</th>\n",
       "      <th>housing</th>\n",
       "      <th>loan</th>\n",
       "      <th>contact</th>\n",
       "      <th>day</th>\n",
       "      <th>month</th>\n",
       "      <th>campaign</th>\n",
       "      <th>previous</th>\n",
       "      <th>poutcome</th>\n",
       "      <th>y</th>\n",
       "      <th>contacted_before</th>\n",
       "    </tr>\n",
       "  </thead>\n",
       "  <tbody>\n",
       "    <tr>\n",
       "      <th>0</th>\n",
       "      <td>58</td>\n",
       "      <td>management</td>\n",
       "      <td>married</td>\n",
       "      <td>tertiary</td>\n",
       "      <td>no</td>\n",
       "      <td>2143</td>\n",
       "      <td>yes</td>\n",
       "      <td>no</td>\n",
       "      <td>unknown</td>\n",
       "      <td>5</td>\n",
       "      <td>may</td>\n",
       "      <td>1</td>\n",
       "      <td>0</td>\n",
       "      <td>unknown</td>\n",
       "      <td>0</td>\n",
       "      <td>1</td>\n",
       "    </tr>\n",
       "    <tr>\n",
       "      <th>1</th>\n",
       "      <td>44</td>\n",
       "      <td>technician</td>\n",
       "      <td>single</td>\n",
       "      <td>secondary</td>\n",
       "      <td>no</td>\n",
       "      <td>29</td>\n",
       "      <td>yes</td>\n",
       "      <td>no</td>\n",
       "      <td>unknown</td>\n",
       "      <td>5</td>\n",
       "      <td>may</td>\n",
       "      <td>1</td>\n",
       "      <td>0</td>\n",
       "      <td>unknown</td>\n",
       "      <td>0</td>\n",
       "      <td>1</td>\n",
       "    </tr>\n",
       "    <tr>\n",
       "      <th>2</th>\n",
       "      <td>33</td>\n",
       "      <td>entrepreneur</td>\n",
       "      <td>married</td>\n",
       "      <td>secondary</td>\n",
       "      <td>no</td>\n",
       "      <td>2</td>\n",
       "      <td>yes</td>\n",
       "      <td>yes</td>\n",
       "      <td>unknown</td>\n",
       "      <td>5</td>\n",
       "      <td>may</td>\n",
       "      <td>1</td>\n",
       "      <td>0</td>\n",
       "      <td>unknown</td>\n",
       "      <td>0</td>\n",
       "      <td>1</td>\n",
       "    </tr>\n",
       "    <tr>\n",
       "      <th>3</th>\n",
       "      <td>47</td>\n",
       "      <td>blue-collar</td>\n",
       "      <td>married</td>\n",
       "      <td>unknown</td>\n",
       "      <td>no</td>\n",
       "      <td>1506</td>\n",
       "      <td>yes</td>\n",
       "      <td>no</td>\n",
       "      <td>unknown</td>\n",
       "      <td>5</td>\n",
       "      <td>may</td>\n",
       "      <td>1</td>\n",
       "      <td>0</td>\n",
       "      <td>unknown</td>\n",
       "      <td>0</td>\n",
       "      <td>1</td>\n",
       "    </tr>\n",
       "    <tr>\n",
       "      <th>4</th>\n",
       "      <td>33</td>\n",
       "      <td>unknown</td>\n",
       "      <td>single</td>\n",
       "      <td>unknown</td>\n",
       "      <td>no</td>\n",
       "      <td>1</td>\n",
       "      <td>no</td>\n",
       "      <td>no</td>\n",
       "      <td>unknown</td>\n",
       "      <td>5</td>\n",
       "      <td>may</td>\n",
       "      <td>1</td>\n",
       "      <td>0</td>\n",
       "      <td>unknown</td>\n",
       "      <td>0</td>\n",
       "      <td>1</td>\n",
       "    </tr>\n",
       "  </tbody>\n",
       "</table>\n",
       "</div>"
      ],
      "text/plain": [
       "   age           job  marital  education default  balance housing loan  \\\n",
       "0   58    management  married   tertiary      no     2143     yes   no   \n",
       "1   44    technician   single  secondary      no       29     yes   no   \n",
       "2   33  entrepreneur  married  secondary      no        2     yes  yes   \n",
       "3   47   blue-collar  married    unknown      no     1506     yes   no   \n",
       "4   33       unknown   single    unknown      no        1      no   no   \n",
       "\n",
       "   contact  day month  campaign  previous poutcome  y  contacted_before  \n",
       "0  unknown    5   may         1         0  unknown  0                 1  \n",
       "1  unknown    5   may         1         0  unknown  0                 1  \n",
       "2  unknown    5   may         1         0  unknown  0                 1  \n",
       "3  unknown    5   may         1         0  unknown  0                 1  \n",
       "4  unknown    5   may         1         0  unknown  0                 1  "
      ]
     },
     "execution_count": 210,
     "metadata": {},
     "output_type": "execute_result"
    }
   ],
   "source": [
    "bankdata.head(5)"
   ]
  },
  {
   "cell_type": "code",
   "execution_count": 211,
   "id": "eee3f098-c7f7-4a3a-b050-c7c2403c6b46",
   "metadata": {},
   "outputs": [],
   "source": [
    "## Defining feature categories\n",
    "numeric_features = ['age', 'balance', 'campaign', 'previous', 'campaign_efficiency']\n",
    "categorical_features = ['job', 'marital', 'education', 'default', 'housing', 'loan',\n",
    "                        'contact', 'month', 'poutcome', 'age_group', 'balance_level']\n",
    "binary_features = ['contact_recent', 'has_previous_contact']\n",
    "\n",
    "\n",
    "## Building preprocessing pipelines for numeric and categorical columns\n",
    "numeric_transformer = Pipeline(steps=[\n",
    "    ('imputer', SimpleImputer(strategy='mean')),\n",
    "    ('scaler', StandardScaler())\n",
    "])\n",
    "\n",
    "categorical_transformer = Pipeline(steps=[\n",
    "    ('imputer', SimpleImputer(strategy='most_frequent')),   # fills NaNs with mode\n",
    "    ('onehot', OneHotEncoder(handle_unknown='ignore'))\n",
    "])\n",
    "\n",
    "## Combining pipelines\n",
    "preprocessor = ColumnTransformer([\n",
    "    ('num', numeric_transformer, numeric_features),\n",
    "    ('cat', categorical_transformer, categorical_features),\n",
    "    ('bin', 'passthrough', binary_features)\n",
    "])\n",
    "\n",
    "## Full pipeline\n",
    "pipeline = Pipeline([\n",
    "    ('preprocessing', preprocessor),\n",
    "    ('classifier', RandomForestClassifier(random_state=42))\n",
    "])"
   ]
  },
  {
   "cell_type": "code",
   "execution_count": 212,
   "id": "6a7df9d1-38ba-47f6-b467-0237274ae003",
   "metadata": {},
   "outputs": [
    {
     "name": "stdout",
     "output_type": "stream",
     "text": [
      "   age           job  marital  education default  balance housing loan  \\\n",
      "0   58    management  married   tertiary      no     2143     yes   no   \n",
      "1   44    technician   single  secondary      no       29     yes   no   \n",
      "2   33  entrepreneur  married  secondary      no        2     yes  yes   \n",
      "3   47   blue-collar  married    unknown      no     1506     yes   no   \n",
      "4   33       unknown   single    unknown      no        1      no   no   \n",
      "\n",
      "   contact  day  ... campaign  previous  poutcome  y  contacted_before  \\\n",
      "0  unknown    5  ...        1         0   unknown  0                 1   \n",
      "1  unknown    5  ...        1         0   unknown  0                 1   \n",
      "2  unknown    5  ...        1         0   unknown  0                 1   \n",
      "3  unknown    5  ...        1         0   unknown  0                 1   \n",
      "4  unknown    5  ...        1         0   unknown  0                 1   \n",
      "\n",
      "   age_group contact_recent  balance_level has_previous_contact  \\\n",
      "0     Mature              1           High                    0   \n",
      "1      Adult              1            Low                    0   \n",
      "2      Adult              1            Low                    0   \n",
      "3     Mature              1           High                    0   \n",
      "4      Adult              1            Low                    0   \n",
      "\n",
      "   campaign_efficiency  \n",
      "0                  0.0  \n",
      "1                  0.0  \n",
      "2                  0.0  \n",
      "3                  0.0  \n",
      "4                  0.0  \n",
      "\n",
      "[5 rows x 21 columns]\n"
     ]
    }
   ],
   "source": [
    "## Custom Transformer for Engineered Features\n",
    "class FeatureEngineer(BaseEstimator, TransformerMixin):\n",
    "    def __init__(self):\n",
    "        pass\n",
    "\n",
    "    def fit(self, X, y=None):\n",
    "        return self\n",
    "\n",
    "    def transform(self, X):\n",
    "        bankdata = X.copy()\n",
    "\n",
    "## Age group\n",
    "bankdata['age_group'] = pd.cut(bankdata['age'], bins=[18, 30, 45, 60, 100],\n",
    "        labels=['Young', 'Adult', 'Mature', 'Senior'])\n",
    "\n",
    "## Was contacted recently\n",
    "bankdata['contact_recent'] = bankdata['contacted_before'].apply(lambda x: 1 if x != 999 and x <= 30 else 0)\n",
    "\n",
    "## Balance level\n",
    "bankdata['balance_level'] = pd.qcut(bankdata['balance'], q=3, labels=['Low', 'Medium', 'High'])\n",
    "\n",
    "## Has previous contact\n",
    "bankdata['has_previous_contact'] = bankdata['previous'].apply(lambda x: 1 if x > 0 else 0)\n",
    "\n",
    "## Campaign efficiency\n",
    "bankdata['campaign_efficiency'] = bankdata['previous'] / (bankdata['campaign'] + 1)\n",
    "\n",
    "print(bankdata.head(5))"
   ]
  },
  {
   "cell_type": "code",
   "execution_count": 213,
   "id": "1cf84161-f48c-4773-9158-a8bbee91e2b7",
   "metadata": {},
   "outputs": [],
   "source": [
    "##  Defining features and target\n",
    "X = bankdata.drop(columns=['y'])\n",
    "y = bankdata['y']\n",
    "\n",
    "\n",
    "##  Defining categorical columns and numerical columns excluding target\n",
    "cat_cols = X.select_dtypes(include='object').columns.tolist()\n",
    "num_cols = X.select_dtypes(include=['int64', 'float64']).columns.tolist()\n",
    "\n",
    "## Handling missing values (they appear as 'unknown' strings in categorical columns)\n",
    "## Replacing 'unknown' with Nan for imputation\n",
    "X[cat_cols] = X[cat_cols].replace('unknown', np.nan)"
   ]
  },
  {
   "cell_type": "code",
   "execution_count": 214,
   "id": "b511c591-2234-43f3-b469-d05e6532b3e8",
   "metadata": {},
   "outputs": [
    {
     "name": "stdout",
     "output_type": "stream",
     "text": [
      "Preprocessed feature matrix shape: (45211, 54)\n"
     ]
    }
   ],
   "source": [
    "## Custom transformer to convert columns to categorical dtype \n",
    "class ToCategoricalTransformer(BaseEstimator, TransformerMixin):\n",
    "    def __init__(self, cols):\n",
    "        self.cols = cols\n",
    "    def fit(self, X, y=None):\n",
    "        return self\n",
    "    def transform(self, X):\n",
    "        X = X.copy()\n",
    "        for col in self.cols:\n",
    "            X[col] = X[col].astype('category')\n",
    "        return X\n",
    "\n",
    "\n",
    "\n",
    "##  Fit preprocessor and transform data (example)\n",
    "X_preprocessed = preprocessor.fit_transform(X)\n",
    "\n",
    "print(f\"Preprocessed feature matrix shape: {X_preprocessed.shape}\")"
   ]
  },
  {
   "cell_type": "markdown",
   "id": "60b2dfd8-7672-4246-a903-71a1147c1d53",
   "metadata": {},
   "source": [
    "### Model Training and Testing"
   ]
  },
  {
   "cell_type": "code",
   "execution_count": 216,
   "id": "6f919fc3-e7b3-46e9-bb6c-3629b8c69d77",
   "metadata": {},
   "outputs": [
    {
     "name": "stdout",
     "output_type": "stream",
     "text": [
      "           Model  Accuracy  Precision    Recall  F1 Score\n",
      "0  Random Forest  0.886431   0.574419  0.226398  0.324786\n"
     ]
    }
   ],
   "source": [
    "## Preprocessing pipeline\n",
    "preprocessor = ColumnTransformer(transformers=[\n",
    "    ('num', StandardScaler(), numeric_features),\n",
    "    ('cat', OneHotEncoder(handle_unknown='ignore'), categorical_features)\n",
    "])\n",
    "\n",
    "## Full pipeline with model\n",
    "pipeline = Pipeline(steps=[\n",
    "    (\"preprocessing\", preprocessor),\n",
    "    (\"classifier\", RandomForestClassifier(n_estimators=50, random_state=42))\n",
    "])\n",
    "\n",
    "\n",
    "## Train-test split\n",
    "X_train, X_test, y_train, y_test = train_test_split(X, y, test_size=0.2, random_state=42)\n",
    "\n",
    "## Training model\n",
    "pipeline.fit(X_train, y_train)\n",
    "\n",
    "## Prediction and evaluation\n",
    "y_pred = pipeline.predict(X_test)\n",
    "\n",
    "## Defining model name and results container\n",
    "name = 'Random Forest'\n",
    "results = []\n",
    "\n",
    "results.append({\n",
    "    'Model': name,\n",
    "    'Accuracy': accuracy_score(y_test, y_pred),\n",
    "    'Precision': precision_score(y_test, y_pred),\n",
    "    'Recall': recall_score(y_test, y_pred),\n",
    "    'F1 Score': f1_score(y_test, y_pred)\n",
    "})\n",
    "\n",
    "## Results\n",
    "metric_result = pd.DataFrame(results)\n",
    "print(metric_result)"
   ]
  },
  {
   "cell_type": "code",
   "execution_count": 217,
   "id": "2613ad9c-c668-4369-86bb-776e1b0f6d08",
   "metadata": {},
   "outputs": [
    {
     "name": "stdout",
     "output_type": "stream",
     "text": [
      "           Model  Accuracy  Precision    Recall  F1 Score\n",
      "0  Random Forest  0.887316   0.589552  0.217232  0.317482\n"
     ]
    }
   ],
   "source": [
    "### Retraining the model with class weights to improve model performance\n",
    "## Preprocessing pipeline\n",
    "preprocessor = ColumnTransformer(transformers=[\n",
    "    ('num', StandardScaler(), numeric_features),\n",
    "    ('cat', OneHotEncoder(handle_unknown='ignore'), categorical_features)\n",
    "])\n",
    "\n",
    "## Full pipeline with model\n",
    "pipeline = Pipeline(steps=[\n",
    "    (\"preprocessing\", preprocessor),\n",
    "    (\"classifier\", RandomForestClassifier(random_state=42, n_estimators=50, class_weight='balanced'))\n",
    "])\n",
    "\n",
    "\n",
    "## Train-test split\n",
    "X_train, X_test, y_train, y_test = train_test_split(X, y, test_size=0.2, random_state=42)\n",
    "\n",
    "## Training model\n",
    "pipeline.fit(X_train, y_train)\n",
    "\n",
    "## Prediction and evaluation\n",
    "y_pred = pipeline.predict(X_test)\n",
    "\n",
    "## Defining model name and results container\n",
    "name = 'Random Forest'\n",
    "results = []\n",
    "\n",
    "results.append({\n",
    "    'Model': name,\n",
    "    'Accuracy': accuracy_score(y_test, y_pred),\n",
    "    'Precision': precision_score(y_test, y_pred),\n",
    "    'Recall': recall_score(y_test, y_pred),\n",
    "    'F1 Score': f1_score(y_test, y_pred)\n",
    "})\n",
    "\n",
    "## Results\n",
    "metric_result = pd.DataFrame(results)\n",
    "print(metric_result)"
   ]
  },
  {
   "cell_type": "code",
   "execution_count": 218,
   "id": "6838b75c-7df4-4715-a2fc-8c7f1f974616",
   "metadata": {},
   "outputs": [
    {
     "name": "stdout",
     "output_type": "stream",
     "text": [
      "Model saved as sub_pred_model.pkl!\n"
     ]
    }
   ],
   "source": [
    "## Saving model pipeline\n",
    "import joblib\n",
    "\n",
    "joblib.dump(pipeline, \"sub_pred_model.pkl\", compress=5)\n",
    "print(\"Model saved as sub_pred_model.pkl!\")"
   ]
  },
  {
   "cell_type": "markdown",
   "id": "b8698a4b-bc4a-4e20-a961-3f3adcfc58d0",
   "metadata": {},
   "source": [
    "### App Deployment"
   ]
  },
  {
   "cell_type": "code",
   "execution_count": 220,
   "id": "036c2ab6-a393-4d91-ba2b-641ba22acc68",
   "metadata": {},
   "outputs": [
    {
     "name": "stdout",
     "output_type": "stream",
     "text": [
      "Streamlit app saved as Bank_Sub.py\n"
     ]
    }
   ],
   "source": [
    "app_code= \"\"\"\n",
    "\n",
    "import streamlit as st\n",
    "import joblib\n",
    "import pandas as pd\n",
    "\n",
    "## Loading model\n",
    "model = joblib.load(\"sub_pred_model.pkl\")\n",
    "\n",
    "\n",
    "## App title\n",
    "st.title(\"📊 Bank Deposit Subscription Predictor\")\n",
    "\n",
    "## User inputs\n",
    "age = st.slider(\"Age\", 18, 95, 30)\n",
    "job = st.selectbox(\"Job\", ['admin.', 'technician', 'services', 'management', 'retired',\n",
    "                           'blue-collar', 'unemployed', 'entrepreneur', 'housemaid',\n",
    "                           'self-employed', 'student', 'unknown'])\n",
    "marital = st.selectbox(\"Marital Status\", ['married', 'single', 'divorced'])\n",
    "education = st.selectbox(\"Education\", ['primary', 'secondary', 'tertiary', 'unknown'])\n",
    "default = st.selectbox(\"Has Credit Default?\", ['yes', 'no'])\n",
    "balance = st.number_input(\"Account Balance\", step=100)\n",
    "housing = st.selectbox(\"Has Housing Loan?\", ['yes', 'no'])\n",
    "loan = st.selectbox(\"Has Personal Loan?\", ['yes', 'no'])\n",
    "contact = st.selectbox(\"Contact Communication Type\", ['cellular', 'telephone', 'unknown'])\n",
    "month = st.selectbox(\"Last Contact Month\", ['jan', 'feb', 'mar', 'apr', 'may', 'jun',\n",
    "                                            'jul', 'aug', 'sep', 'oct', 'nov', 'dec'])\n",
    "campaign = st.number_input(\"Number of Contacts During Campaign\", min_value=1, max_value=50, value=1)\n",
    "previous = st.number_input(\"Number of Previous Contacts\", min_value=0, max_value=100, value=0)\n",
    "poutcome = st.selectbox(\"Previous Outcome\", ['success', 'failure', 'nonexistent'])\n",
    "\n",
    "## Feature engineering\n",
    "age_group = (\n",
    "    \"young\" if age < 30 else\n",
    "    \"adult\" if age < 60 else\n",
    "    \"senior\"\n",
    ")\n",
    "balance_level = (\n",
    "    \"low\" if balance < 0 else\n",
    "    \"medium\" if balance < 1000 else\n",
    "    \"high\"\n",
    ")\n",
    "campaign_efficiency = previous / campaign if campaign else 0\n",
    "\n",
    "##  Input assembly\n",
    "input_dictionary = {\n",
    "    \"age\": age,\n",
    "    \"job\": job,\n",
    "    \"marital\": marital,\n",
    "    \"education\": education,\n",
    "    \"default\": default,\n",
    "    \"balance\": balance,\n",
    "    \"housing\": housing,\n",
    "    \"loan\": loan,\n",
    "    \"contact\": contact,\n",
    "    \"month\": month,\n",
    "    \"campaign\": campaign,\n",
    "    \"previous\": previous,\n",
    "    \"previous_outcome\": poutcome,\n",
    "    \"age_group\": age_group,\n",
    "    \"balance_level\": balance_level,\n",
    "    \"campaign_efficiency\": campaign_efficiency\n",
    "}\n",
    "\n",
    "## Converting to DataFrame\n",
    "input_frame = pd.DataFrame([input_dictionary])\n",
    "\n",
    "\n",
    "## Prediction\n",
    "if st.button(\"Predict\"):\n",
    "    try:\n",
    "        prediction = model.predict\n",
    "        result = \"✅ Yes\" if prediction[0] == 1 else \"❌ No\"\n",
    "        st.success(f\"Will the client subscribe? {result}\")\n",
    "    except Exception as e:\n",
    "        st.error(f\"Prediction failed: {e}\")\n",
    "        \n",
    "\"\"\"\n",
    "\n",
    "## Saving py file\n",
    "with open(\"Bank_Sub.py\", \"w\",encoding=\"utf-8\") as f:\n",
    "    f.write(app_code)\n",
    "\n",
    "print(\"Streamlit app saved as Bank_Sub.py\")"
   ]
  },
  {
   "cell_type": "code",
   "execution_count": null,
   "id": "22f6d427-07ea-4888-b62c-fbf217f2ef50",
   "metadata": {},
   "outputs": [],
   "source": []
  }
 ],
 "metadata": {
  "kernelspec": {
   "display_name": "Python 3 (ipykernel)",
   "language": "python",
   "name": "python3"
  },
  "language_info": {
   "codemirror_mode": {
    "name": "ipython",
    "version": 3
   },
   "file_extension": ".py",
   "mimetype": "text/x-python",
   "name": "python",
   "nbconvert_exporter": "python",
   "pygments_lexer": "ipython3",
   "version": "3.12.4"
  }
 },
 "nbformat": 4,
 "nbformat_minor": 5
}
